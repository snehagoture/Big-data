{
 "cells": [
  {
   "cell_type": "markdown",
   "metadata": {
    "id": "ulwwNZ-u-tOZ"
   },
   "source": [
    "# COMP47470 Assignment 1: Bash and MySQL\n",
    "\n",
    "This assignment has two components. It carries 10 points (10% weight).\n",
    "\n",
    "The first component has problems on Bash Scripting. The second component is on MySQL.\n",
    "\n",
    "Each component carries 5 points.\n",
    "\n",
    "## Bash Scripting Problems\n",
    "\n",
    "**Performance monitoring counts (PMCs)** are special-purpose registers provided in modern microprocessors to store the counts of software and hardware activities that have happened during an application execution.\n",
    "\n",
    "The values for each PMC is recorded in a separate file. It has an extension, **vals**.\n",
    "\n",
    "You are provided a compressed dataset in two formats, **hclserver02_dgemmfft_pmcs.zip** and **hclserver02_dgemmfft_pmcs.tar**.\n",
    "\n",
    "The dataset contains a number of files for the PMCs representing the software and hardware activities during the execution of a dgemmfft application on hclserver02 machine. All the files together represent the software and hardware activity during an application execution.\n",
    "\n",
    "Each PMC is associated with only one file. So, there is a one-to-one mapping between files and PMCs.\n",
    "\n",
    "Unzip or untar the compressed dataset to get the files for the PMCs.\n",
    "\n",
    "For example, consider the file **BR_INST_RETIRED_ALL_BRANCHES.vals**. It contains the recorded counts for the PMC, **BR_INST_RETIRED_ALL_BRANCHES**, for several runs of the application. The file contains the following counts:\n",
    "98746126220 <br>\n",
    "98734157641 <br>\n",
    "98749771778 <br>\n",
    "98610776397 <br>\n",
    "98608136283 <br>\n",
    "\n",
    "The **average** of its counts is  <br>\n",
    "**(98746126220 + 98734157641 + 98749771778 + 98610776397 + 98608136283)** / 5 = 98689793663.8.\n",
    "\n",
    "The average count measures the positive correlation with performance or energy consumption of the application. A PMC with the highest average count signifies highest positive correlation with performance or energy consumption of the application.\n",
    "\n",
    "Furthermore, the PMCs related to UOPs are present in files starting with prefix **UOPS_**. Similarly for PMCs related to memory are in files starting with prefix **MEMS_**.\n",
    "\n",
    "Write Bash scripts to solve the following problems.\n",
    "\n",
    "*You will see code cells to input your Bash scripts. However, you can combine all your answers in one single Bash script and present it as your solution to all the Bash problems.*\n",
    "\n",
    "### Problem 1\n",
    "\n",
    "Write a Bash script to print the number of PMCs recorded for the application. (1 point)"
   ]
  },
  {
   "cell_type": "code",
   "execution_count": null,
   "metadata": {
    "id": "a9BpD0uW-nvP"
   },
   "outputs": [],
   "source": []
  },
  {
   "cell_type": "markdown",
   "metadata": {
    "id": "JpmkYW3QB2H9"
   },
   "source": [
    "### Problem 2\n",
    "\n",
    "Write a Bash script to print the top 5 PMCs (names of the PMCs and not the filenames) pertaining to UOPS with the highest positive correlation? (2 points)"
   ]
  },
  {
   "cell_type": "code",
   "execution_count": null,
   "metadata": {
    "id": "PeFMO6BRDTGK"
   },
   "outputs": [],
   "source": []
  },
  {
   "cell_type": "markdown",
   "metadata": {
    "id": "yxc_Rm9YDToq"
   },
   "source": [
    "### Problem 3\n",
    "\n",
    "Write a Bash script to print the top 5 PMCs (names of the PMCs and not the filenames) with the highest positive correlation overall? (2 points)"
   ]
  },
  {
   "cell_type": "code",
   "execution_count": null,
   "metadata": {
    "id": "2jvKp4qXDf8h"
   },
   "outputs": [],
   "source": []
  },
  {
   "cell_type": "markdown",
   "metadata": {
    "id": "FPvIB_WXDgtr"
   },
   "source": [
    "## MySQL Problems\n",
    "\n",
    "In this assignment, you will work with a database of football players who participated in a particular World Cup.\n",
    "\n",
    "There are two tables, **Players** and **Teams**. The table **Players** contains the following attributes and their datatypes:\n",
    "\n",
    "**surname** - A string datatype of variable length, VARCHAR(64) <br>\n",
    "**team** - A string datatype of variable length, VARCHAR(32) <br>\n",
    "**position** - A string datatype of variable length, VARCHAR(16) <br>\n",
    "**minutes** - Number of minutes played by the player, INTEGER <br>\n",
    "**shots** - Number of shots taken by the player, INTEGER <br>\n",
    "**passes** - Number of passes made by the player, INTEGER <br>\n",
    "**tackles** - Number of tackles made by the player, INTEGER <br>\n",
    "**saves** - Number of saves made by the player, INTEGER <br>\n",
    "\n",
    "The primary key of the table is composed of first three attributes, **surname**, **team**, and **position**.\n",
    "\n",
    "The second table **Teams** contains the following attributes and their datatypes:\n",
    "\n",
    "**team** - A string datatype of variable length, VARCHAR(32) <br>\n",
    "**ranking** - The ranking of the team, INTEGER <br>\n",
    "**games** - The number of games played by the team, INTEGER <br>\n",
    "**wins** - The number of wins, INTEGER <br>\n",
    "**draws** - The number of draws, INTEGER <br>\n",
    "**losses** - The number of losses, INTEGER <br>\n",
    "**goalsFor** - The number of goals scored by the team, INTEGER <br>\n",
    "**goalsAgainst** - The number of goals scored against by the team, INTEGER <br>\n",
    "**yellowCards** - The number of yellow cards given to the team, INTEGER <br>\n",
    "**redCards** - The number of red cards, INTEGER <br>\n",
    "\n",
    "The primary key of this table is **team**.\n",
    "\n",
    "The foreign key **team** of the table **Players** references the primary key of the table **Teams**.\n",
    "\n",
    "None of the attributes must be NULL.\n",
    "\n",
    "*You will see code cells to input your MySQL commands. However, you can present all your MySQL commands in one single code cell.*\n",
    "\n",
    "## Problem 1\n",
    "\n",
    "Create the tables containing the attributes, key and referential integrity contraints using MySQL DDL commands/statement. (1 point)"
   ]
  },
  {
   "cell_type": "code",
   "execution_count": null,
   "metadata": {
    "id": "oHIJQBcRifi9"
   },
   "outputs": [],
   "source": []
  },
  {
   "cell_type": "markdown",
   "metadata": {
    "id": "CGZbZo5Hif-9"
   },
   "source": [
    "You are given two files, **Players.csv** and **Teams.csv**.\n",
    "\n",
    "The file Teams.csv contains the data for the teams that participated in the WC. The file Players.csv contains the data for the players.\n",
    "\n",
    "Note the first line in the file is a header describing the data.\n",
    "\n",
    "## Problem 2\n",
    "\n",
    "Load the tables with the data from the files using MySQL LOAD DATA tool (1 point).\n",
    "\n",
    "(Hint: use LOAD DATA command with IGNORE 1 LINES to ignore the header line)"
   ]
  },
  {
   "cell_type": "code",
   "execution_count": null,
   "metadata": {
    "id": "7swRFDlQj2VK"
   },
   "outputs": [],
   "source": []
  },
  {
   "cell_type": "markdown",
   "metadata": {
    "id": "aiwOteZbkbLn"
   },
   "source": [
    "## Problem 3\n",
    "\n",
    "Write MySQL SQL statement to determine/select which players made more than 20 shots? (1 point)"
   ]
  },
  {
   "cell_type": "code",
   "execution_count": null,
   "metadata": {
    "id": "eSg-0yI6kaW7"
   },
   "outputs": [],
   "source": []
  },
  {
   "cell_type": "markdown",
   "metadata": {
    "id": "gTRGX-EXj3UU"
   },
   "source": [
    "## Problem 4\n",
    "\n",
    "Write MySQL SQL statement to determine is the average number of passes made by forwards? (1 point)"
   ]
  },
  {
   "cell_type": "code",
   "execution_count": null,
   "metadata": {
    "id": "XFhNhgGMkhs-"
   },
   "outputs": [],
   "source": []
  },
  {
   "cell_type": "markdown",
   "metadata": {
    "id": "jE5p8Ve2lbsH"
   },
   "source": [
    "## Problem 5\n",
    "\n",
    "Write MySQL SQL statement to determine how many players from a team with ranking < 10 played more than 350 minutes?  (1 point)"
   ]
  },
  {
   "cell_type": "code",
   "execution_count": null,
   "metadata": {
    "id": "qr8pDlXhmAEd"
   },
   "outputs": [],
   "source": []
  }
 ],
 "metadata": {
  "colab": {
   "provenance": []
  },
  "kernelspec": {
   "display_name": "Python 3 (ipykernel)",
   "language": "python",
   "name": "python3"
  },
  "language_info": {
   "codemirror_mode": {
    "name": "ipython",
    "version": 3
   },
   "file_extension": ".py",
   "mimetype": "text/x-python",
   "name": "python",
   "nbconvert_exporter": "python",
   "pygments_lexer": "ipython3",
   "version": "3.10.12"
  }
 },
 "nbformat": 4,
 "nbformat_minor": 4
}
